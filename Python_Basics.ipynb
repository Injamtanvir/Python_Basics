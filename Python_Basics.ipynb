{
  "cells": [
    {
      "cell_type": "markdown",
      "metadata": {
        "id": "view-in-github",
        "colab_type": "text"
      },
      "source": [
        "<a href=\"https://colab.research.google.com/github/Injamtanvir/Python_Basics/blob/main/Python_Basics.ipynb\" target=\"_parent\"><img src=\"https://colab.research.google.com/assets/colab-badge.svg\" alt=\"Open In Colab\"/></a>"
      ]
    },
    {
      "cell_type": "markdown",
      "id": "6fcf7a5a",
      "metadata": {
        "id": "6fcf7a5a"
      },
      "source": [
        "# INJAM UL HAQUE\n",
        "CSE, BRAC UNIVERSITY \\\n",
        "[GitHub Profile](https://github.com/Injamtanvir)"
      ]
    },
    {
      "cell_type": "code",
      "execution_count": null,
      "id": "ef94fe3a",
      "metadata": {
        "id": "ef94fe3a",
        "outputId": "b5594a80-d84d-4108-fada-54e758267045"
      },
      "outputs": [
        {
          "name": "stdout",
          "output_type": "stream",
          "text": [
            "Hello Tanvir\n",
            "INJAM UL HAQUE\n",
            "2369\n",
            "29.3\n"
          ]
        }
      ],
      "source": [
        "print(\"Hello Tanvir\")\n",
        "print(\"INJAM UL HAQUE\")\n",
        "print(2369)  # # MEANS COMMENT\n",
        "print(29.3) #THERE 29.3(FRACTION NUMBER) IS A FLOAT VALUE"
      ]
    },
    {
      "cell_type": "code",
      "execution_count": null,
      "id": "47998def",
      "metadata": {
        "id": "47998def",
        "outputId": "d5d285bb-f4f5-41c9-c854-dc8e66fb3292"
      },
      "outputs": [
        {
          "name": "stdout",
          "output_type": "stream",
          "text": [
            "123456 123456\n"
          ]
        }
      ],
      "source": [
        "num = 123456\n",
        "text = str(num)\n",
        "print(num, text)  # NUMBER CONVERT STRING USING str() FUNCTION."
      ]
    },
    {
      "cell_type": "code",
      "execution_count": null,
      "id": "aa7cfad9",
      "metadata": {
        "id": "aa7cfad9",
        "outputId": "afaa47f0-3491-40e3-c7f9-3da6c4640121"
      },
      "outputs": [
        {
          "name": "stdout",
          "output_type": "stream",
          "text": [
            "10000\n",
            "20\n",
            "Tom cruise\n",
            "France\n",
            "False\n",
            "True\n"
          ]
        }
      ],
      "source": [
        "salary = 10000 #THIS 10000 IS A NUMBER TYPE/NUMERICAL VARIABLE\n",
        "age = 20 #THERE age/salary/person/isBad... REPRESENTS THE VARIABLE\n",
        "person = \"Tom cruise\" #THIS \"Tom cruise\" IS A STRING VARIABLE\n",
        "country = \"France\"\n",
        "isBad = False #THIS True OR False IS A BOOLEAN VARIABLE\n",
        "isRich = True\n",
        "print(salary)\n",
        "print(age)\n",
        "print(person)\n",
        "print(country)\n",
        "print(isBad)\n",
        "print(isRich)"
      ]
    },
    {
      "cell_type": "code",
      "execution_count": null,
      "id": "b4edd4c3",
      "metadata": {
        "id": "b4edd4c3",
        "outputId": "32d0798f-56d6-45a4-d6d0-5f1f8fd2aa1c"
      },
      "outputs": [
        {
          "name": "stdout",
          "output_type": "stream",
          "text": [
            "18\n",
            "-12\n",
            "45\n",
            "5.0\n",
            "0\n"
          ]
        }
      ],
      "source": [
        "a = 3\n",
        "b = 15 \n",
        "\n",
        "print(a + b) #THERE + OPERATOR MEANS ADDITION\n",
        "\n",
        "print(a - b) #THERE - OPERATOR MEANS SUBTRACTION\n",
        "\n",
        "print(a * b) #THERE * OPERATOR MEANS MULTIPLICATION\n",
        "\n",
        "print(b / a) #THERE /  OPERATOR MEANS DIVISION\n",
        "\n",
        "print(b % a) #THERE % OPERATOR MEANS REMINDER ON A DIVISION\n",
        "\n"
      ]
    },
    {
      "cell_type": "code",
      "execution_count": null,
      "id": "9726f094",
      "metadata": {
        "id": "9726f094",
        "outputId": "7ad75d12-3393-4de9-98de-a5fe6acb6d20"
      },
      "outputs": [
        {
          "name": "stdout",
          "output_type": "stream",
          "text": [
            "4.0\n",
            "12\n"
          ]
        }
      ],
      "source": [
        "Monkey = 6\n",
        "Banana = 24\n",
        "\n",
        "result = Banana / Monkey\n",
        "anotherResult = Monkey * 2\n",
        "\n",
        "print(result)\n",
        "print(anotherResult)"
      ]
    },
    {
      "cell_type": "code",
      "execution_count": null,
      "id": "baec1eb7",
      "metadata": {
        "id": "baec1eb7",
        "outputId": "08414778-9948-4ecb-fc59-79a7eeaddd5d"
      },
      "outputs": [
        {
          "name": "stdout",
          "output_type": "stream",
          "text": [
            "Are you single?Yes\n",
            "This person is single: Yes\n"
          ]
        }
      ],
      "source": [
        "status = input(\"Are you single?\") #THERE input() PROGRAMME WANT A INPUT FROM USER\n",
        "print(\"This person is single:\" , status)"
      ]
    },
    {
      "cell_type": "code",
      "execution_count": null,
      "id": "32e851c1",
      "metadata": {
        "id": "32e851c1",
        "outputId": "6fa2236c-a441-4359-d5ef-658d59612bbf"
      },
      "outputs": [
        {
          "name": "stdout",
          "output_type": "stream",
          "text": [
            "How much money:200\n",
            "I will pay double: 200200\n"
          ]
        }
      ],
      "source": [
        "lend = input(\"How much money:\")\n",
        "print(\"I will pay double:\", lend*2) #THERE OUTPUT WILL BE SHOW WRONG CAUSE string*2 RETURNS stringstring. IT WILL BE integer*2.\n"
      ]
    },
    {
      "cell_type": "code",
      "execution_count": null,
      "id": "be6b7aef",
      "metadata": {
        "id": "be6b7aef",
        "outputId": "9599e76c-7dd5-4f1b-9701-0819109e9205"
      },
      "outputs": [
        {
          "name": "stdout",
          "output_type": "stream",
          "text": [
            "How much money:20\n",
            "I will pay double: 40\n"
          ]
        }
      ],
      "source": [
        "lend = int(input(\"How much money:\"))\n",
        "print(\"I will pay double:\", lend*2) #THERE int() CONVERT THE STRING TO INTEGER"
      ]
    },
    {
      "cell_type": "code",
      "execution_count": null,
      "id": "e81f8c10",
      "metadata": {
        "id": "e81f8c10",
        "outputId": "503f6014-ad68-4960-f24f-6b446e2dfbbb"
      },
      "outputs": [
        {
          "name": "stdout",
          "output_type": "stream",
          "text": [
            "How much money:200\n",
            "I will pay double: 400.0\n"
          ]
        }
      ],
      "source": [
        "lend = float(input(\"How much money:\"))\n",
        "print(\"I will pay double:\", lend*2) #THERE float() CONVERT THE STRING TO A FLOAT VALUE LIKE 10.5(RRACTION NUMBER)"
      ]
    },
    {
      "cell_type": "code",
      "execution_count": null,
      "id": "1069c828",
      "metadata": {
        "id": "1069c828",
        "outputId": "bb650613-1850-4892-c12c-ad2c3bcd7c91"
      },
      "outputs": [
        {
          "name": "stdout",
          "output_type": "stream",
          "text": [
            "What's your name: Tanvir\n",
            "What's your age: 20\n",
            "What's your salary: 19000\n",
            "My name is Tanvir. I am 20 years old. My salary is 10000\n"
          ]
        }
      ],
      "source": [
        "name = input(\"What's your name: \")\n",
        "age = int(input(\"What's your age: \"))\n",
        "salaray = float(input(\"What's your salary: \"))\n",
        "\n",
        "print(f\"My name is {name}. I am {age} years old. My salary is {salary}\")"
      ]
    },
    {
      "cell_type": "code",
      "execution_count": null,
      "id": "6bad51ef",
      "metadata": {
        "id": "6bad51ef",
        "outputId": "5928532f-e25c-4e21-c9be-2bcf8e6bd34b"
      },
      "outputs": [
        {
          "name": "stdout",
          "output_type": "stream",
          "text": [
            "I will Buy it\n"
          ]
        }
      ],
      "source": [
        "price = 10000\n",
        "storage = 128\n",
        "\n",
        "if price > 5000 and storage < 256 : #THERE if: / elif: / else: ARE DIFFERENT CONDITIONS\n",
        "                                    #and MEANS BOTH CONDITIONS ARE TRUE\n",
        "                                    #or MEANS ONLY ONE CONDITION / BOTH CONDITIONS ARE TRUE\n",
        "                                    #== MEANS EQUAL / =! MEANS NOT EQUAL / > MEANS GREATER THAN / >= MEANS GREATER THAN OR EQUAL / < MEANS LESS THAN / <= MEANS LESS THAN OR EQUAL\n",
        "    print(\"I will Buy it\")\n",
        "    \n",
        "else:\n",
        "    print(\"I won't buy it\")"
      ]
    },
    {
      "cell_type": "code",
      "execution_count": null,
      "id": "dd3947b5",
      "metadata": {
        "id": "dd3947b5",
        "outputId": "d1720795-f49b-49f9-99df-ba49bf8ebb5e"
      },
      "outputs": [
        {
          "name": "stdout",
          "output_type": "stream",
          "text": [
            "I will think\n"
          ]
        }
      ],
      "source": [
        "price = 1150\n",
        "if price < 1000:\n",
        "    print(\"I will Buy\")\n",
        "elif 1000 < price <= 1200:\n",
        "    print(\"I will think\")\n",
        "else:\n",
        "    print(\"I will not buy\")"
      ]
    },
    {
      "cell_type": "code",
      "execution_count": null,
      "id": "037508e6",
      "metadata": {
        "id": "037508e6",
        "outputId": "ec721f97-707d-4ac2-a6fa-767e37da7ce5"
      },
      "outputs": [
        {
          "name": "stdout",
          "output_type": "stream",
          "text": [
            "5\n"
          ]
        }
      ],
      "source": [
        "number = [1000,2000,3000,4000,5000] #[] LIST OF ELEMENTS CAN BE STORE ON THERE\n",
        "Avengers = [\"IronMan\", \"AntMan\", \"SpiderMan\",\"Wanda\", \"CaptainAmerica\"]\n",
        "\n",
        "count = len(Avengers)  #len() THIS GIVE US THE LENGTH(HOW MUCH ELEMENT) INSIDE THE LIST\n",
        "print(count)"
      ]
    },
    {
      "cell_type": "code",
      "execution_count": null,
      "id": "4be2b678",
      "metadata": {
        "id": "4be2b678",
        "outputId": "d9301491-bbcc-4b3a-dab1-9be0ad9e55b7"
      },
      "outputs": [
        {
          "name": "stdout",
          "output_type": "stream",
          "text": [
            "AntMan\n"
          ]
        }
      ],
      "source": [
        "number = [1000,2000,3000,4000,5000]\n",
        "Avengers = [\"IronMan\", \"AntMan\", \"SpiderMan\",\"Wanda\", \"CaptainAmerica\"]\n",
        "\n",
        "second = Avengers[1] # LIST INDEX CAN BE [0,1,2,3,4,5,6,.......,(len(list)-1)] \n",
        "print(second) #RETURN THE LISTS 2ND INDEX VALUE "
      ]
    },
    {
      "cell_type": "code",
      "execution_count": null,
      "id": "75f7b137",
      "metadata": {
        "id": "75f7b137",
        "outputId": "949f85ae-ec99-418b-aefb-1fa576e766e0"
      },
      "outputs": [
        {
          "name": "stdout",
          "output_type": "stream",
          "text": [
            "4000\n"
          ]
        }
      ],
      "source": [
        "number = [1000,2000,3000,4000,5000]\n",
        "Avengers = [\"IronMan\", \"AntMan\", \"SpiderMan\",\"Wanda\", \"CaptainAmerica\"]\n",
        "\n",
        "List_elem = number[3] #RETURN THE LISTS 3RD INDEX VALUE \n",
        "print(List_elem)"
      ]
    },
    {
      "cell_type": "code",
      "execution_count": null,
      "id": "1e7f4d21",
      "metadata": {
        "id": "1e7f4d21",
        "outputId": "fcf090ff-5d45-4655-9a85-66177cf8e6f0"
      },
      "outputs": [
        {
          "name": "stdout",
          "output_type": "stream",
          "text": [
            "['IronMan', 'AntMan', 'SpiderMan', 'Wanda', 'CaptainAmerica', 'HeMan']\n"
          ]
        }
      ],
      "source": [
        "number = [1000,2000,3000,4000,5000]\n",
        "Avengers = [\"IronMan\", \"AntMan\", \"SpiderMan\",\"Wanda\", \"CaptainAmerica\"]\n",
        "\n",
        "Avengers.append(\"HeMan\") #append() ADD EXTRA ELEMENT ON THE LAST INDEX ON A LIST\n",
        "print(Avengers)"
      ]
    },
    {
      "cell_type": "code",
      "execution_count": null,
      "id": "66a3cb91",
      "metadata": {
        "id": "66a3cb91",
        "outputId": "29ff0400-9c1c-4788-eae0-bc1ca16eaaa4"
      },
      "outputs": [
        {
          "name": "stdout",
          "output_type": "stream",
          "text": [
            "['IronMan', 'AntMan', 'SpiderMan', 'CaptainAmerica']\n"
          ]
        }
      ],
      "source": [
        "number = [1000,2000,3000,4000,5000]\n",
        "Avengers = [\"IronMan\", \"AntMan\", \"SpiderMan\",\"Wanda\", \"CaptainAmerica\"]\n",
        "\n",
        "Avengers.remove(\"Wanda\") #remove() REMOVE THE ELEMENT FRAOM THE LIST WHICH I CALLED \n",
        "print(Avengers)"
      ]
    },
    {
      "cell_type": "code",
      "execution_count": null,
      "id": "8f826a1c",
      "metadata": {
        "id": "8f826a1c",
        "outputId": "0459d1ff-9704-4e52-edae-82186a21f507"
      },
      "outputs": [
        {
          "name": "stdout",
          "output_type": "stream",
          "text": [
            "['IronMan', 'AntMan', 'Hulk', 'Wanda', 'CaptainAmerica']\n"
          ]
        }
      ],
      "source": [
        "number = [1000,2000,3000,4000,5000]\n",
        "Avengers = [\"IronMan\", \"AntMan\", \"SpiderMan\",\"Wanda\", \"CaptainAmerica\"]\n",
        "\n",
        "Avengers[2] = \"Hulk\" #THIS CAN REPLACE THE ELEMENT BY ANOTHER ELEMENT\n",
        "print(Avengers)"
      ]
    },
    {
      "cell_type": "code",
      "execution_count": null,
      "id": "1beee757",
      "metadata": {
        "id": "1beee757",
        "outputId": "4b7d2388-9b3b-4e06-9d31-95bdc4a1cb8d"
      },
      "outputs": [
        {
          "name": "stdout",
          "output_type": "stream",
          "text": [
            "['2', '3', '4', '5', '6']\n"
          ]
        }
      ],
      "source": [
        "num = 23456\n",
        "text = str(num)\n",
        "count = [char for char in text]\n",
        "print(count)"
      ]
    },
    {
      "cell_type": "code",
      "execution_count": null,
      "id": "607a90af",
      "metadata": {
        "id": "607a90af",
        "outputId": "43ec9fe8-b5b8-4102-be65-2f65137ea13c"
      },
      "outputs": [
        {
          "name": "stdout",
          "output_type": "stream",
          "text": [
            "[2, 3, 4, 5, 6]\n"
          ]
        }
      ],
      "source": [
        "num = 23456\n",
        "text = str(num)\n",
        "count = [int(char) for char in text]\n",
        "print(count)"
      ]
    },
    {
      "cell_type": "code",
      "execution_count": null,
      "id": "c136d6d2",
      "metadata": {
        "id": "c136d6d2",
        "outputId": "b6d4e8e2-428a-43f5-9e96-fcbcc5d0e86d"
      },
      "outputs": [
        {
          "name": "stdout",
          "output_type": "stream",
          "text": [
            "Hi IronMan\n",
            "Hi AntMan\n",
            "Hi SpiderMan\n",
            "Hi Wanda\n",
            "Hi CaptainAmerica\n",
            "1000\n",
            "2000\n",
            "3000\n",
            "4000\n",
            "5000\n"
          ]
        }
      ],
      "source": [
        "number = [1000,2000,3000,4000,5000]\n",
        "Avengers = [\"IronMan\", \"AntMan\", \"SpiderMan\",\"Wanda\", \"CaptainAmerica\"]\n",
        "\n",
        "for avenger in Avengers: #for LOOP USE THE SAME TASK AGAIN & AGAIN\n",
        "    print(\"Hi\" ,avenger)\n",
        "    \n",
        "for item in number:\n",
        "    print(item)"
      ]
    },
    {
      "cell_type": "code",
      "execution_count": null,
      "id": "c0c4b90c",
      "metadata": {
        "id": "c0c4b90c",
        "outputId": "491b32aa-ec40-4e6f-afb6-56badc3759f2"
      },
      "outputs": [
        {
          "name": "stdout",
          "output_type": "stream",
          "text": [
            "2000\n",
            "Hi\n",
            "-4000\n",
            "Hi\n",
            "6000\n",
            "Hi\n",
            "88\n",
            "Hi\n",
            "132\n",
            "Hi\n",
            "8000\n",
            "Hi\n",
            "-10000\n",
            "Hi\n"
          ]
        }
      ],
      "source": [
        "number = [1000, -2000, 3000, 44, 66, 4000, -5000]\n",
        "    \n",
        "for item in number:\n",
        "    print(item * 2)  #MULTIPLY THE ITEM IN PRINT STATEMENT\n",
        "    print(\"Hi\")"
      ]
    },
    {
      "cell_type": "code",
      "execution_count": null,
      "id": "dbe3660d",
      "metadata": {
        "id": "dbe3660d",
        "outputId": "50a05344-de37-44d3-bc36-74072a03cb68"
      },
      "outputs": [
        {
          "name": "stdout",
          "output_type": "stream",
          "text": [
            "1000\n",
            "2000\n",
            "3000\n",
            "600\n"
          ]
        }
      ],
      "source": [
        "number = [1000,2000,3000,4000,5000,600]\n",
        "    \n",
        "for item in number:\n",
        "    if item < 4000: #USE A CONDITION PROGRAMME WILL GIVE RETURN LESS THAN 4000 VALUE IN THE LIST\n",
        "        print(item)\n",
        "        "
      ]
    },
    {
      "cell_type": "code",
      "execution_count": null,
      "id": "b0798cfc",
      "metadata": {
        "id": "b0798cfc",
        "outputId": "04dcfcd5-a695-4184-abbc-ecbd3cf4654f"
      },
      "outputs": [
        {
          "name": "stdout",
          "output_type": "stream",
          "text": [
            "1000\n",
            "2000\n",
            "-3000\n"
          ]
        }
      ],
      "source": [
        "number = [1000, 2000, -3000, 4000, 5000]\n",
        "    \n",
        "for item in number:\n",
        "    print(item) #THIS WILL PRINT THE ELEMENT BEFORE break\n",
        "    if item < 0: #break FUNCTION MEANS THE LOOP WILL NOT CONTINUE\n",
        "        break\n",
        "        "
      ]
    },
    {
      "cell_type": "code",
      "execution_count": null,
      "id": "1cc11d68",
      "metadata": {
        "id": "1cc11d68",
        "outputId": "1c6a2200-7e0e-4f58-b14a-53a9ed5973cd"
      },
      "outputs": [
        {
          "name": "stdout",
          "output_type": "stream",
          "text": [
            "1000\n"
          ]
        }
      ],
      "source": [
        "number = [1000, -2000, 3000, 4000, -5000]\n",
        "    \n",
        "for item in number:\n",
        "    if item < 0:\n",
        "        break\n",
        "    print(item) #THIS WILL PRINT THE ELEMENT AFTER break  "
      ]
    },
    {
      "cell_type": "code",
      "execution_count": null,
      "id": "d7ea19a2",
      "metadata": {
        "id": "d7ea19a2",
        "outputId": "2e4337f8-163b-4131-f36c-4726482bb73a"
      },
      "outputs": [
        {
          "name": "stdout",
          "output_type": "stream",
          "text": [
            "1000\n",
            "3000\n",
            "44\n",
            "66\n",
            "4000\n"
          ]
        }
      ],
      "source": [
        "number = [1000, -2000, 3000, 44, 66, 4000, -5000]\n",
        "    \n",
        "for item in number:\n",
        "    if item < 20:\n",
        "        continue  #continue FUNCTION MEANS THE LOOP WILL CONTINUE SKIPPING DEFINING FUNCTIONS\n",
        "    print(item)   "
      ]
    },
    {
      "cell_type": "code",
      "execution_count": null,
      "id": "66a29cff",
      "metadata": {
        "id": "66a29cff",
        "outputId": "85753dd2-ddbc-4c24-9dc6-4b5a2d8f6ca0"
      },
      "outputs": [
        {
          "name": "stdout",
          "output_type": "stream",
          "text": [
            "1\n",
            "2\n",
            "3\n",
            "4\n",
            "5\n",
            "6\n",
            "7\n",
            "8\n",
            "9\n",
            "10\n"
          ]
        }
      ],
      "source": [
        "num = 1\n",
        "while num <= 10: #while DOING MULTIPLE THINGS UNTIL SOMETHING CHANGED\n",
        "    print(num)\n",
        "    num = num + 1 #THIS WILL INCREASE THE NUM VALUE 1 EVERY TIME"
      ]
    },
    {
      "cell_type": "code",
      "execution_count": null,
      "id": "e3baa8ce",
      "metadata": {
        "id": "e3baa8ce",
        "outputId": "1afbaf1d-e6df-444f-f55c-8cd0468817c1"
      },
      "outputs": [
        {
          "name": "stdout",
          "output_type": "stream",
          "text": [
            "1\n",
            "2\n",
            "3\n",
            "4\n",
            "5\n",
            "6\n",
            "7\n",
            "8\n",
            "9\n",
            "10\n",
            "11\n",
            "12\n",
            "13\n",
            "14\n",
            "15\n"
          ]
        }
      ],
      "source": [
        "num = 1\n",
        "while num <= 50: \n",
        "    if num > 15:\n",
        "        break\n",
        "    print(num)\n",
        "    num = num + 1 "
      ]
    },
    {
      "cell_type": "code",
      "execution_count": null,
      "id": "940e2bb9",
      "metadata": {
        "id": "940e2bb9",
        "outputId": "202b6393-7e33-44d4-822b-27e59a40047c"
      },
      "outputs": [
        {
          "name": "stdout",
          "output_type": "stream",
          "text": [
            "1\n",
            "2\n",
            "3\n",
            "4\n",
            "6\n",
            "7\n",
            "8\n",
            "9\n",
            "10\n"
          ]
        }
      ],
      "source": [
        "for i in range(1,11):\n",
        "    if i==5:\n",
        "        continue\n",
        "    print (i)"
      ]
    },
    {
      "cell_type": "code",
      "execution_count": null,
      "id": "5894dc9c",
      "metadata": {
        "id": "5894dc9c",
        "outputId": "648b38b5-a5e5-432f-9ce2-83e626a16c26"
      },
      "outputs": [
        {
          "name": "stdout",
          "output_type": "stream",
          "text": [
            "Hello\n",
            "I am Tanvir\n"
          ]
        }
      ],
      "source": [
        "def write(): # def DEFINING A FUNCTION(ORGANIZE MULTIPLE THINGS UNDER A NAME)\n",
        "             #def BENEFIT WHENEVER YOU CALL IT WHENEVER YOU NEED IT\n",
        "             #def FUNCTION TAKE INPT AND THEN RETURN\n",
        "             #write() WHATEVER INSIDE THE def FUNCTION\n",
        "    print(\"Hello\")\n",
        "    print(\"I am Tanvir\")\n",
        "\n",
        "write()"
      ]
    },
    {
      "cell_type": "code",
      "execution_count": null,
      "id": "6a2c41ec",
      "metadata": {
        "id": "6a2c41ec",
        "outputId": "833fa00e-61ef-41c2-92a0-d58302e4f92e"
      },
      "outputs": [
        {
          "name": "stdout",
          "output_type": "stream",
          "text": [
            "Hello\n",
            "I am Tanvir\n",
            "10\n",
            "20\n",
            "30\n",
            "40\n",
            "50\n",
            "Hello\n",
            "I am Tanvir\n"
          ]
        }
      ],
      "source": [
        "def write():\n",
        "    print(\"Hello\")\n",
        "    print(\"I am Tanvir\")\n",
        "\n",
        "write()\n",
        "nums = [10,20,30,40,50]\n",
        "for num in nums:\n",
        "    print(num)\n",
        "write() #YOU CAN CALLED FUNCTION ANYWHERE"
      ]
    },
    {
      "cell_type": "code",
      "execution_count": null,
      "id": "984b07f7",
      "metadata": {
        "id": "984b07f7",
        "outputId": "8bda95cb-fdec-4a2e-b6cd-b56186bb5dd4"
      },
      "outputs": [
        {
          "name": "stdout",
          "output_type": "stream",
          "text": [
            "Hello\n",
            "I am Tanvir\n",
            "Do you saw Resurection Ertugrul series????\n"
          ]
        }
      ],
      "source": [
        "def write():\n",
        "    print(\"Hello\")\n",
        "    print(\"I am Tanvir\")\n",
        "    \n",
        "def Talk(): #YOU CAN CALLED MULTIPLE FUNCTIONS\n",
        "    print(\"Do you saw Resurection Ertugrul series????\")\n",
        "    \n",
        "write()\n",
        "Talk()"
      ]
    },
    {
      "cell_type": "code",
      "execution_count": null,
      "id": "679a4448",
      "metadata": {
        "id": "679a4448",
        "outputId": "de07ba0c-85c5-4654-c524-f2cff8712392"
      },
      "outputs": [
        {
          "name": "stdout",
          "output_type": "stream",
          "text": [
            "Total money you have:  900\n"
          ]
        }
      ],
      "source": [
        "def multiply_double(num, multiplier):\n",
        "    result = num * multiplier\n",
        "    return result   #RETURN THE VALUE(WHICH WAS STORED)\n",
        "first_amount = multiply_double(200, 2) #PASSING MULTAIPLE VARIABLE ISIDE THE FUNCTION. IN THERE num RECEIVED AS 200/100 && multiplier RECEIVED AS 2/5.\n",
        "second_amount = multiply_double(100, 5) #second_amount / first_amount STORED THE VALUE\n",
        "\n",
        "total = first_amount + second_amount\n",
        "print(\"Total money you have: \", total)"
      ]
    },
    {
      "cell_type": "markdown",
      "id": "b6d37038",
      "metadata": {
        "id": "b6d37038"
      },
      "source": [
        "# =======================Real Life Python Problem==================="
      ]
    },
    {
      "cell_type": "code",
      "execution_count": null,
      "id": "bea08ea3",
      "metadata": {
        "id": "bea08ea3",
        "outputId": "23f60d0a-8095-43be-e32d-283207208f48"
      },
      "outputs": [
        {
          "name": "stdout",
          "output_type": "stream",
          "text": [
            "Before Swap: a: 5 b: 7\n",
            "After Swap: a: 7 b: 5\n"
          ]
        }
      ],
      "source": [
        "#swap element in variable\n",
        "\n",
        "a = 5\n",
        "b = 7\n",
        "\n",
        "print(\"Before Swap: \"\"a:\", a, \"b:\", b)\n",
        "\n",
        "temp = a  #MAKE A CONTAINER TO RECEIVED THE ELEMENT TEMPORARY\n",
        "a = b\n",
        "b = temp\n",
        "print(\"After Swap: \"\"a:\", a, \"b:\", b)"
      ]
    },
    {
      "cell_type": "code",
      "execution_count": null,
      "id": "0a3d95af",
      "metadata": {
        "id": "0a3d95af",
        "outputId": "1ca1995f-c7cb-4134-e9d9-c426d610992b"
      },
      "outputs": [
        {
          "name": "stdout",
          "output_type": "stream",
          "text": [
            "Before Swap: a: 5 b: 7\n",
            "After Swap: a: 7 b: 5\n"
          ]
        }
      ],
      "source": [
        "#swap element in variable\n",
        "\n",
        "a = 5\n",
        "b = 7\n",
        "\n",
        "print(\"Before Swap: \"\"a:\", a, \"b:\", b)\n",
        "\n",
        "a, b = b, a  #PYTHON BUILT IN FUNCTION. OTHERWISE YOU HAVE TO MAKE A EXTRA VARIABLE/CONTAINER(count variable)THEN PUT ELEMENT ON THERE AND SWAP EACHOTHER ONE BY ONE.\n",
        "print(\"After Swap: \"\"a:\", a, \"b:\", b)"
      ]
    },
    {
      "cell_type": "code",
      "execution_count": null,
      "id": "502a3303",
      "metadata": {
        "id": "502a3303",
        "outputId": "f0ba42f8-b4a8-4d63-a7d1-87ad2619a6fe"
      },
      "outputs": [
        {
          "name": "stdout",
          "output_type": "stream",
          "text": [
            "Please insert a year: 2024\n",
            "Your given year is a leap year\n"
          ]
        }
      ],
      "source": [
        "#find leap year\n",
        "\n",
        "year = int(input(\"Please insert a year: \"))\n",
        "\n",
        "if year % 4 == 0:   #LEAP YEAR(MEANS 29 DAYS IN FEBRUARY WHICH IS COME EVERY 4 YEARS)\n",
        "                    #IF  A YEAR WHICH IS DIVISIBLE BY 4 THAT IS LEAP YEAR. THERE year % 4 == 0 INDICATES THE YEAR DIVIDED BY 4 AND THERE HAVE NO REMINDER.\n",
        "    print((\"Your given year is a leap year\"))\n",
        "else:\n",
        "    print((\"Your given year is not a leap year\"))    "
      ]
    },
    {
      "cell_type": "code",
      "execution_count": null,
      "id": "d3646ba2",
      "metadata": {
        "id": "d3646ba2",
        "outputId": "07d720a1-6477-4ef4-f9e5-6bc67f1e96eb"
      },
      "outputs": [
        {
          "name": "stdout",
          "output_type": "stream",
          "text": [
            "Please enter how much money on yash Bank account: 2000\n",
            "Please enter how much money on rafi Bank account: 1500\n",
            "Please enter how much money on tanvir Bank account: 3000\n",
            "tanvir Bank balanced is higher amoong all3\n"
          ]
        }
      ],
      "source": [
        "#find maximum minimum from multiple items\n",
        "\n",
        "yash = int (input(\"Please enter how much money on yash Bank account: \"))\n",
        "rafi = int (input(\"Please enter how much money on rafi Bank account: \"))\n",
        "tanvir = int (input(\"Please enter how much money on tanvir Bank account: \"))\n",
        "\n",
        "if yash > rafi and yash > tanvir:   #AMKE CONFITIONS FOR THREE DIFFERENT SITUATIONS\n",
        "    Print(\"Yash Bank balanced is higher amoong all3\")\n",
        "\n",
        "elif rafi > yash and rafi > tanvir:\n",
        "    print(\"Rafi Bank balanced is higher amoong all3\")\n",
        "\n",
        "else:\n",
        "    print(\"Tanvir Bank balanced is higher amoong all3\")"
      ]
    },
    {
      "cell_type": "code",
      "execution_count": null,
      "id": "101a714f",
      "metadata": {
        "id": "101a714f",
        "outputId": "f7305c24-8f72-46e8-a453-536e90c75703"
      },
      "outputs": [
        {
          "name": "stdout",
          "output_type": "stream",
          "text": [
            "Please enter how much money on yash Bank account: 2000\n",
            "Please enter how much money on rafi Bank account: 1500\n",
            "Please enter how much money on tanvir Bank account: 2700\n",
            "Richest person has  2700 Dollars\n",
            "Poorest person has  1500 Dollars\n"
          ]
        }
      ],
      "source": [
        "#find maximum minimum from multiple items\n",
        "\n",
        "#USE PYTHON BUILT-IN FUNCTION max()\n",
        "#USE PYTHON BUILT-IN FUNCTION min()\n",
        "\n",
        "yash = int (input(\"Please enter how much money on yash Bank account: \"))\n",
        "rafi = int (input(\"Please enter how much money on rafi Bank account: \"))\n",
        "tanvir = int (input(\"Please enter how much money on tanvir Bank account: \"))\n",
        "\n",
        "richest = max(yash, rafi, tanvir) #FIND MAXIMUM\n",
        "poorest = min(yash, rafi, tanvir) #FIND MINIMUM\n",
        "print(\"Richest person has \", richest, \"Dollars\")\n",
        "print(\"Poorest person has \", poorest, \"Dollars\")"
      ]
    },
    {
      "cell_type": "code",
      "execution_count": null,
      "id": "99429400",
      "metadata": {
        "id": "99429400",
        "outputId": "437c5959-34e6-4155-a64f-12d7c584dfba"
      },
      "outputs": [
        {
          "name": "stdout",
          "output_type": "stream",
          "text": [
            "Sum of all numbers:  90220\n",
            "Average of all numbers:  8201.818181818182\n"
          ]
        }
      ],
      "source": [
        "#find sum or average of a list\n",
        "\n",
        "numbers = [20, 349, 784, 73673, 3676, 8890, 245, 345, 780, 673, 785]\n",
        "\n",
        "sum = 0  #MAKE A CONTAINER WHERE INITIAL VALUE IS 0\n",
        "for i in numbers:\n",
        "    sum = sum + i  #EVERYTIME ADD NEW i VALUE WITH PREVIOUS sum AND STORED IT AGAIN ON sum\n",
        "    \n",
        "avg = sum / len(numbers) #TOTAL SUM DIVIDED BY NUMBER OF ELEMENTS ON THE LIST\n",
        "\n",
        "print(\"Sum of all numbers: \", sum)\n",
        "print(\"Average of all numbers: \", avg)"
      ]
    },
    {
      "cell_type": "code",
      "execution_count": null,
      "id": "bd15881a",
      "metadata": {
        "id": "bd15881a",
        "outputId": "1cd9521d-a7ba-4495-d6ed-04e31858f0c0"
      },
      "outputs": [
        {
          "name": "stdout",
          "output_type": "stream",
          "text": [
            "Laragest number is:  900\n",
            "Smallest number is:  19\n"
          ]
        }
      ],
      "source": [
        "#find largest or smallest number in a list\n",
        "\n",
        "nums = [48, 49, 55, 73, 29, 900, 548, 201, 45, 65, 19, 257]\n",
        "\n",
        "largestNumber = nums[0]  #THINK FIRST VALUE IN THE LIST WAS THE LARGEST NUMBER\n",
        "for i in nums:\n",
        "    if i > largestNumber: #EVERY TIME IN LOOP IF THE ELEMENT > LARGESTNUMBER THE ELEMENT TOOK THE LARGEST NUMBERS PLACE.\n",
        "        largestNumber = i\n",
        "        \n",
        "print(\"Laragest number is: \", largestNumber)\n",
        "\n",
        "\n",
        "smallestNumber = nums[0]  #THINK FIRST VALUE IN THE LIST WAS THE SMALLEST NUMBER\n",
        "for i in nums:\n",
        "    if i < smallestNumber:  #TO FIND SMALLEST THAT'S WHY USE <.\n",
        "                            #EVERY TIME IN LOOP IF THE ELEMENT < SMALLESTNUMBER THE ELEMENT TOOK THE SMALLEST NUMBERS PLACE.\n",
        "        smallestNumber = i\n",
        "        \n",
        "print(\"Smallest number is: \", smallestNumber)"
      ]
    },
    {
      "cell_type": "code",
      "execution_count": null,
      "id": "259e001b",
      "metadata": {
        "id": "259e001b",
        "outputId": "1607a377-f17d-4965-98bb-e63eb12e538f"
      },
      "outputs": [
        {
          "name": "stdout",
          "output_type": "stream",
          "text": [
            "Please enter a sentence: hello, Mr. Rahman. I am Tanvir. I am 19 years old.\n",
            "Total number of word/s in the sentence:  11\n"
          ]
        }
      ],
      "source": [
        "#count word from a sentence\n",
        "\n",
        "text = input(\"Please enter a sentence: \")\n",
        "count = 0\n",
        "if len(text) > 0:  #IF I USE COUNT = 0 . THAT SHOW ME 1 WORD LESS, CAUSE MY THIS LOOP CAOUNT ONLY SPACES. TAHT'S WHY MY THIS LOOP CAN'T DETECT THE LAST WORD.\n",
        "    count = 1\n",
        "for char in text :\n",
        "    if char == \" \":\n",
        "        count = count+1\n",
        "\n",
        "print(\"Total number of word/s in the sentence: \", count)"
      ]
    },
    {
      "cell_type": "code",
      "execution_count": null,
      "id": "b2f6a721",
      "metadata": {
        "id": "b2f6a721",
        "outputId": "000b4b8e-e543-45c5-dc2c-46b6dd38ac79"
      },
      "outputs": [
        {
          "name": "stdout",
          "output_type": "stream",
          "text": [
            "Please enter a sentence: hello, Mr. Rahman. I am Tanvir. I am 19 years old.\n",
            "Number of the vowel in the sentence is:  13\n"
          ]
        }
      ],
      "source": [
        "#count number of vowel in a sentence\n",
        "\n",
        "text = input(\"Please enter a sentence: \")\n",
        "count = 0\n",
        "vowels = ['a', 'e', 'i', 'o', 'u', 'A', 'E', 'I', 'O', 'U'] #PYTHON CAN'T DETERMINE UPPERCASE & LOWERCASE AS SAME\n",
        "\n",
        "for char in text :  #IF CHARACTER MATCHES WITH VOWEL ADD 1 EVERYTIME WITH COUNT\n",
        "    if char in vowels:\n",
        "        count = count+1\n",
        "        \n",
        "print(\"Number of the vowel in the sentence is: \", count)"
      ]
    },
    {
      "cell_type": "code",
      "execution_count": null,
      "id": "712722bb",
      "metadata": {
        "id": "712722bb",
        "outputId": "9d67a223-8580-43ab-d98f-660392b0efcf"
      },
      "outputs": [
        {
          "name": "stdout",
          "output_type": "stream",
          "text": [
            "Please enter a number: 23456\n",
            "20\n"
          ]
        }
      ],
      "source": [
        "#sum of all digits in a number\n",
        "\n",
        "num = int(input(\"Please enter a number: \"))\n",
        "sum = 0  #A CONTAINER\n",
        "\n",
        "while num > 0:  #WHEN NUM > 0 \n",
        "    lastDigit = num % 10   #WHENEVER WE / ANY NUMBER THE OTPUT SHOW A FLOAT VALUE & THE LAST VALUE SHOW A AFTER THE FRACTION. SO WE % TO FIND THE LAST VALUE AND CONTAIN IT ON CONTAINER. \n",
        "    sum = sum + lastDigit \n",
        "    num = num // 10  #AFTER FINDING THE LAST NUMBER WE HAVE TO REMOVE IT. THAT'S WHY WE USE // TO FIND THE NUMBER BEFORE FRACTION POINT.\n",
        "\n",
        "print(sum)"
      ]
    },
    {
      "cell_type": "code",
      "execution_count": null,
      "id": "7679a35b",
      "metadata": {
        "id": "7679a35b",
        "outputId": "d70b5973-bbd8-430c-beb3-9944bb6c9224"
      },
      "outputs": [
        {
          "name": "stdout",
          "output_type": "stream",
          "text": [
            "Please enter a number: 23456\n",
            "20\n"
          ]
        }
      ],
      "source": [
        "#sum of all digits in a number\n",
        "\n",
        "num = int(input(\"Please enter a number: \"))\n",
        "sum = 0\n",
        "text = str(num) #CONVERT THE NUMBER TO A STRING\n",
        "for char in text:\n",
        "    sum = sum + int(char)  #CONVERT THE str TO int\n",
        "\n",
        "print(sum)"
      ]
    },
    {
      "cell_type": "code",
      "execution_count": null,
      "id": "f2c5e6ce",
      "metadata": {
        "id": "f2c5e6ce",
        "outputId": "f133e2a9-2efa-492e-aa92-7bb5c775255d"
      },
      "outputs": [
        {
          "name": "stdout",
          "output_type": "stream",
          "text": [
            "Please enter a sentence: I am a Programmer.\n",
            ".remmargorP a ma I\n"
          ]
        }
      ],
      "source": [
        "#reverse a string\n",
        "\n",
        "text = input(\"Please enter a sentence: \")\n",
        "\n",
        "reverse = \"\"   #TAKE A EMPTY STRING TO RECEIVE THE CHANGED CHARACTER ONE BY ONE.\n",
        "for char in text :\n",
        "    reverse = char + reverse   #NEW CHARACTER RECEIVE BEFORE PREVIOUS CHARACTER\n",
        "    \n",
        "print(reverse)"
      ]
    },
    {
      "cell_type": "code",
      "execution_count": null,
      "id": "ac7c36e5",
      "metadata": {
        "id": "ac7c36e5",
        "outputId": "c374b018-10b6-45a4-c278-b45821641f53"
      },
      "outputs": [
        {
          "name": "stdout",
          "output_type": "stream",
          "text": [
            "Please enter a sentence: I am a Programmer.\n",
            ".remmargorP a ma I\n"
          ]
        }
      ],
      "source": [
        "#reverse a string\n",
        "#Using index\n",
        "\n",
        "text = input(\"Please enter a sentence: \")\n",
        "reverse = text[::-1] #PYTHON SLICING [START:END:DECREMENT/INCREMENT]\n",
        "print(reverse)"
      ]
    },
    {
      "cell_type": "markdown",
      "id": "3f54ff35",
      "metadata": {
        "id": "3f54ff35"
      },
      "source": [
        "#==================================================================================================================="
      ]
    }
  ],
  "metadata": {
    "kernelspec": {
      "display_name": "Python 3 (ipykernel)",
      "language": "python",
      "name": "python3"
    },
    "language_info": {
      "codemirror_mode": {
        "name": "ipython",
        "version": 3
      },
      "file_extension": ".py",
      "mimetype": "text/x-python",
      "name": "python",
      "nbconvert_exporter": "python",
      "pygments_lexer": "ipython3",
      "version": "3.9.12"
    },
    "colab": {
      "provenance": [],
      "include_colab_link": true
    }
  },
  "nbformat": 4,
  "nbformat_minor": 5
}